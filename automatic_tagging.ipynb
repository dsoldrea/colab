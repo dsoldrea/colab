{
  "nbformat": 4,
  "nbformat_minor": 0,
  "metadata": {
    "colab": {
      "name": "automatic-tagging.ipynb",
      "provenance": [],
      "include_colab_link": true
    },
    "kernelspec": {
      "name": "python3",
      "display_name": "Python 3"
    },
    "accelerator": "GPU"
  },
  "cells": [
    {
      "cell_type": "markdown",
      "metadata": {
        "id": "view-in-github",
        "colab_type": "text"
      },
      "source": [
        "<a href=\"https://colab.research.google.com/github/dsoldrea/colab/blob/tutorial/automatic_tagging.ipynb\" target=\"_parent\"><img src=\"https://colab.research.google.com/assets/colab-badge.svg\" alt=\"Open In Colab\"/></a>"
      ]
    },
    {
      "cell_type": "code",
      "metadata": {
        "id": "sABMCjKW7KhK",
        "colab_type": "code",
        "outputId": "d09800fe-3696-410e-a5b6-eeb1ac984b3f",
        "colab": {
          "base_uri": "https://localhost:8080/",
          "height": 51
        }
      },
      "source": [
        "# Install the PyDrive wrapper & import libraries.\n",
        "# This only needs to be done once per notebook.\n",
        "!pip install -U -q PyDrive\n",
        "from pydrive.auth import GoogleAuth\n",
        "from pydrive.drive import GoogleDrive\n",
        "from google.colab import auth\n",
        "from oauth2client.client import GoogleCredentials\n",
        "\n",
        "# Authenticate and create the PyDrive client.\n",
        "# This only needs to be done once per notebook.\n",
        "auth.authenticate_user()\n",
        "gauth = GoogleAuth()\n",
        "gauth.credentials = GoogleCredentials.get_application_default()\n",
        "drive = GoogleDrive(gauth)\n",
        "\n",
        "# Download a file based on its file ID.\n",
        "#\n",
        "# A file ID looks like: laggVyWshwcyP6kEI-y_W3P8D26sz\n",
        "file_id = '1mq319MTrqOu5mzzgt_d0Mr1puT9VHUKj' # ←ここをダウンロードするファイルIDで置き換える\n",
        "downloaded = drive.CreateFile({'id': file_id})\n",
        "downloaded.GetContentFile(\"img\")"
      ],
      "execution_count": 0,
      "outputs": [
        {
          "output_type": "stream",
          "text": [
            "\u001b[?25l\r\u001b[K     |▎                               | 10kB 20.0MB/s eta 0:00:01\r\u001b[K     |▋                               | 20kB 2.8MB/s eta 0:00:01\r\u001b[K     |█                               | 30kB 4.1MB/s eta 0:00:01\r\u001b[K     |█▎                              | 40kB 2.8MB/s eta 0:00:01\r\u001b[K     |█▋                              | 51kB 3.5MB/s eta 0:00:01\r\u001b[K     |██                              | 61kB 4.1MB/s eta 0:00:01\r\u001b[K     |██▎                             | 71kB 4.7MB/s eta 0:00:01\r\u001b[K     |██▋                             | 81kB 3.7MB/s eta 0:00:01\r\u001b[K     |███                             | 92kB 4.2MB/s eta 0:00:01\r\u001b[K     |███▎                            | 102kB 4.6MB/s eta 0:00:01\r\u001b[K     |███▋                            | 112kB 4.6MB/s eta 0:00:01\r\u001b[K     |████                            | 122kB 4.6MB/s eta 0:00:01\r\u001b[K     |████▎                           | 133kB 4.6MB/s eta 0:00:01\r\u001b[K     |████▋                           | 143kB 4.6MB/s eta 0:00:01\r\u001b[K     |█████                           | 153kB 4.6MB/s eta 0:00:01\r\u001b[K     |█████▎                          | 163kB 4.6MB/s eta 0:00:01\r\u001b[K     |█████▋                          | 174kB 4.6MB/s eta 0:00:01\r\u001b[K     |██████                          | 184kB 4.6MB/s eta 0:00:01\r\u001b[K     |██████▎                         | 194kB 4.6MB/s eta 0:00:01\r\u001b[K     |██████▋                         | 204kB 4.6MB/s eta 0:00:01\r\u001b[K     |███████                         | 215kB 4.6MB/s eta 0:00:01\r\u001b[K     |███████▎                        | 225kB 4.6MB/s eta 0:00:01\r\u001b[K     |███████▋                        | 235kB 4.6MB/s eta 0:00:01\r\u001b[K     |████████                        | 245kB 4.6MB/s eta 0:00:01\r\u001b[K     |████████▎                       | 256kB 4.6MB/s eta 0:00:01\r\u001b[K     |████████▋                       | 266kB 4.6MB/s eta 0:00:01\r\u001b[K     |█████████                       | 276kB 4.6MB/s eta 0:00:01\r\u001b[K     |█████████▎                      | 286kB 4.6MB/s eta 0:00:01\r\u001b[K     |█████████▋                      | 296kB 4.6MB/s eta 0:00:01\r\u001b[K     |██████████                      | 307kB 4.6MB/s eta 0:00:01\r\u001b[K     |██████████▎                     | 317kB 4.6MB/s eta 0:00:01\r\u001b[K     |██████████▋                     | 327kB 4.6MB/s eta 0:00:01\r\u001b[K     |███████████                     | 337kB 4.6MB/s eta 0:00:01\r\u001b[K     |███████████▎                    | 348kB 4.6MB/s eta 0:00:01\r\u001b[K     |███████████▋                    | 358kB 4.6MB/s eta 0:00:01\r\u001b[K     |████████████                    | 368kB 4.6MB/s eta 0:00:01\r\u001b[K     |████████████▎                   | 378kB 4.6MB/s eta 0:00:01\r\u001b[K     |████████████▋                   | 389kB 4.6MB/s eta 0:00:01\r\u001b[K     |█████████████                   | 399kB 4.6MB/s eta 0:00:01\r\u001b[K     |█████████████▎                  | 409kB 4.6MB/s eta 0:00:01\r\u001b[K     |█████████████▋                  | 419kB 4.6MB/s eta 0:00:01\r\u001b[K     |██████████████                  | 430kB 4.6MB/s eta 0:00:01\r\u001b[K     |██████████████▎                 | 440kB 4.6MB/s eta 0:00:01\r\u001b[K     |██████████████▋                 | 450kB 4.6MB/s eta 0:00:01\r\u001b[K     |███████████████                 | 460kB 4.6MB/s eta 0:00:01\r\u001b[K     |███████████████▎                | 471kB 4.6MB/s eta 0:00:01\r\u001b[K     |███████████████▋                | 481kB 4.6MB/s eta 0:00:01\r\u001b[K     |████████████████                | 491kB 4.6MB/s eta 0:00:01\r\u001b[K     |████████████████▎               | 501kB 4.6MB/s eta 0:00:01\r\u001b[K     |████████████████▋               | 512kB 4.6MB/s eta 0:00:01\r\u001b[K     |█████████████████               | 522kB 4.6MB/s eta 0:00:01\r\u001b[K     |█████████████████▎              | 532kB 4.6MB/s eta 0:00:01\r\u001b[K     |█████████████████▋              | 542kB 4.6MB/s eta 0:00:01\r\u001b[K     |██████████████████              | 552kB 4.6MB/s eta 0:00:01\r\u001b[K     |██████████████████▎             | 563kB 4.6MB/s eta 0:00:01\r\u001b[K     |██████████████████▋             | 573kB 4.6MB/s eta 0:00:01\r\u001b[K     |███████████████████             | 583kB 4.6MB/s eta 0:00:01\r\u001b[K     |███████████████████▎            | 593kB 4.6MB/s eta 0:00:01\r\u001b[K     |███████████████████▋            | 604kB 4.6MB/s eta 0:00:01\r\u001b[K     |████████████████████            | 614kB 4.6MB/s eta 0:00:01\r\u001b[K     |████████████████████▎           | 624kB 4.6MB/s eta 0:00:01\r\u001b[K     |████████████████████▋           | 634kB 4.6MB/s eta 0:00:01\r\u001b[K     |█████████████████████           | 645kB 4.6MB/s eta 0:00:01\r\u001b[K     |█████████████████████▎          | 655kB 4.6MB/s eta 0:00:01\r\u001b[K     |█████████████████████▋          | 665kB 4.6MB/s eta 0:00:01\r\u001b[K     |██████████████████████          | 675kB 4.6MB/s eta 0:00:01\r\u001b[K     |██████████████████████▎         | 686kB 4.6MB/s eta 0:00:01\r\u001b[K     |██████████████████████▋         | 696kB 4.6MB/s eta 0:00:01\r\u001b[K     |███████████████████████         | 706kB 4.6MB/s eta 0:00:01\r\u001b[K     |███████████████████████▎        | 716kB 4.6MB/s eta 0:00:01\r\u001b[K     |███████████████████████▋        | 727kB 4.6MB/s eta 0:00:01\r\u001b[K     |████████████████████████        | 737kB 4.6MB/s eta 0:00:01\r\u001b[K     |████████████████████████▎       | 747kB 4.6MB/s eta 0:00:01\r\u001b[K     |████████████████████████▋       | 757kB 4.6MB/s eta 0:00:01\r\u001b[K     |████████████████████████▉       | 768kB 4.6MB/s eta 0:00:01\r\u001b[K     |█████████████████████████▏      | 778kB 4.6MB/s eta 0:00:01\r\u001b[K     |█████████████████████████▌      | 788kB 4.6MB/s eta 0:00:01\r\u001b[K     |█████████████████████████▉      | 798kB 4.6MB/s eta 0:00:01\r\u001b[K     |██████████████████████████▏     | 808kB 4.6MB/s eta 0:00:01\r\u001b[K     |██████████████████████████▌     | 819kB 4.6MB/s eta 0:00:01\r\u001b[K     |██████████████████████████▉     | 829kB 4.6MB/s eta 0:00:01\r\u001b[K     |███████████████████████████▏    | 839kB 4.6MB/s eta 0:00:01\r\u001b[K     |███████████████████████████▌    | 849kB 4.6MB/s eta 0:00:01\r\u001b[K     |███████████████████████████▉    | 860kB 4.6MB/s eta 0:00:01\r\u001b[K     |████████████████████████████▏   | 870kB 4.6MB/s eta 0:00:01\r\u001b[K     |████████████████████████████▌   | 880kB 4.6MB/s eta 0:00:01\r\u001b[K     |████████████████████████████▉   | 890kB 4.6MB/s eta 0:00:01\r\u001b[K     |█████████████████████████████▏  | 901kB 4.6MB/s eta 0:00:01\r\u001b[K     |█████████████████████████████▌  | 911kB 4.6MB/s eta 0:00:01\r\u001b[K     |█████████████████████████████▉  | 921kB 4.6MB/s eta 0:00:01\r\u001b[K     |██████████████████████████████▏ | 931kB 4.6MB/s eta 0:00:01\r\u001b[K     |██████████████████████████████▌ | 942kB 4.6MB/s eta 0:00:01\r\u001b[K     |██████████████████████████████▉ | 952kB 4.6MB/s eta 0:00:01\r\u001b[K     |███████████████████████████████▏| 962kB 4.6MB/s eta 0:00:01\r\u001b[K     |███████████████████████████████▌| 972kB 4.6MB/s eta 0:00:01\r\u001b[K     |███████████████████████████████▉| 983kB 4.6MB/s eta 0:00:01\r\u001b[K     |████████████████████████████████| 993kB 4.6MB/s \n",
            "\u001b[?25h  Building wheel for PyDrive (setup.py) ... \u001b[?25l\u001b[?25hdone\n"
          ],
          "name": "stdout"
        }
      ]
    },
    {
      "cell_type": "code",
      "metadata": {
        "id": "jWW98ciB-2lY",
        "colab_type": "code",
        "outputId": "71c6cd96-59eb-45b5-9d74-d39d49808b47",
        "colab": {
          "base_uri": "https://localhost:8080/",
          "height": 34
        }
      },
      "source": [
        "ls"
      ],
      "execution_count": 0,
      "outputs": [
        {
          "output_type": "stream",
          "text": [
            "adc.json  img  \u001b[0m\u001b[01;34msample_data\u001b[0m/\n"
          ],
          "name": "stdout"
        }
      ]
    },
    {
      "cell_type": "code",
      "metadata": {
        "id": "MbMs6SYK_bSH",
        "colab_type": "code",
        "outputId": "472f007d-21ee-488e-bdae-4b60769fd65f",
        "colab": {
          "base_uri": "https://localhost:8080/",
          "height": 394
        }
      },
      "source": [
        "from keras.applications.resnet50 import ResNet50\n",
        "from keras.preprocessing import image\n",
        "from keras.applications.resnet50 import preprocess_input, decode_predictions\n",
        "import numpy as np\n",
        "\n",
        "model = ResNet50(weights='imagenet')\n",
        "\n",
        "img_path = 'img'\n",
        "img = image.load_img(img_path, target_size=(224, 224))\n",
        "x = image.img_to_array(img)\n",
        "x = np.expand_dims(x, axis=0)\n",
        "x = preprocess_input(x)\n",
        "\n",
        "preds = model.predict(x)\n",
        "# decode the results into a list of tuples (class, description, probability)\n",
        "# (one such list for each sample in the batch)\n",
        "print('Predicted:', decode_predictions(preds, top=3)[0])\n",
        "# Predicted: [(u'n02504013', u'Indian_elephant', 0.82658225), (u'n01871265', u'tusker', 0.1122357), (u'n02504458', u'African_elephant', 0.061040461)]"
      ],
      "execution_count": 0,
      "outputs": [
        {
          "output_type": "stream",
          "text": [
            "Using TensorFlow backend.\n",
            "WARNING: Logging before flag parsing goes to stderr.\n",
            "W0624 05:39:39.784044 140716506990464 deprecation_wrapper.py:119] From /usr/local/lib/python3.6/dist-packages/keras/backend/tensorflow_backend.py:74: The name tf.get_default_graph is deprecated. Please use tf.compat.v1.get_default_graph instead.\n",
            "\n",
            "W0624 05:39:39.814828 140716506990464 deprecation_wrapper.py:119] From /usr/local/lib/python3.6/dist-packages/keras/backend/tensorflow_backend.py:517: The name tf.placeholder is deprecated. Please use tf.compat.v1.placeholder instead.\n",
            "\n",
            "W0624 05:39:39.826372 140716506990464 deprecation_wrapper.py:119] From /usr/local/lib/python3.6/dist-packages/keras/backend/tensorflow_backend.py:4185: The name tf.truncated_normal is deprecated. Please use tf.random.truncated_normal instead.\n",
            "\n",
            "W0624 05:39:39.862816 140716506990464 deprecation_wrapper.py:119] From /usr/local/lib/python3.6/dist-packages/keras/backend/tensorflow_backend.py:174: The name tf.get_default_session is deprecated. Please use tf.compat.v1.get_default_session instead.\n",
            "\n",
            "W0624 05:39:39.865193 140716506990464 deprecation_wrapper.py:119] From /usr/local/lib/python3.6/dist-packages/keras/backend/tensorflow_backend.py:181: The name tf.ConfigProto is deprecated. Please use tf.compat.v1.ConfigProto instead.\n",
            "\n",
            "W0624 05:39:42.652302 140716506990464 deprecation_wrapper.py:119] From /usr/local/lib/python3.6/dist-packages/keras/backend/tensorflow_backend.py:1834: The name tf.nn.fused_batch_norm is deprecated. Please use tf.compat.v1.nn.fused_batch_norm instead.\n",
            "\n",
            "W0624 05:39:42.724783 140716506990464 deprecation_wrapper.py:119] From /usr/local/lib/python3.6/dist-packages/keras/backend/tensorflow_backend.py:3976: The name tf.nn.max_pool is deprecated. Please use tf.nn.max_pool2d instead.\n",
            "\n"
          ],
          "name": "stderr"
        },
        {
          "output_type": "stream",
          "text": [
            "Downloading data from https://github.com/fchollet/deep-learning-models/releases/download/v0.2/resnet50_weights_tf_dim_ordering_tf_kernels.h5\n",
            "102858752/102853048 [==============================] - 3s 0us/step\n",
            "Downloading data from https://storage.googleapis.com/download.tensorflow.org/data/imagenet_class_index.json\n",
            "40960/35363 [==================================] - 0s 0us/step\n",
            "Predicted: [('n02325366', 'wood_rabbit', 0.85761136), ('n02326432', 'hare', 0.13985628), ('n02356798', 'fox_squirrel', 0.0014538674)]\n"
          ],
          "name": "stdout"
        }
      ]
    }
  ]
}